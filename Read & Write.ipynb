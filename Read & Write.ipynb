{
    "nbformat_minor": 1, 
    "cells": [
        {
            "source": "with open(\"example.txt\",\"w\") as file:\n    file.write(\"Hello Python\")", 
            "cell_type": "code", 
            "metadata": {}, 
            "outputs": [], 
            "execution_count": 24
        }, 
        {
            "source": "!ls", 
            "cell_type": "code", 
            "metadata": {}, 
            "outputs": [
                {
                    "output_type": "stream", 
                    "name": "stdout", 
                    "text": "example.txt\r\n"
                }
            ], 
            "execution_count": 25
        }, 
        {
            "source": "with open(\"example.txt\",\"r\") as file:\n    print(file.read())", 
            "cell_type": "code", 
            "metadata": {}, 
            "outputs": [
                {
                    "output_type": "stream", 
                    "name": "stdout", 
                    "text": "Hello Python\n"
                }
            ], 
            "execution_count": 26
        }, 
        {
            "source": "with open(\"example.txt\",\"a\") as file:\n    file.write(\"\\nHello Jupyter\")\n    file.write(\"\\nHello Data Science\")", 
            "cell_type": "code", 
            "metadata": {}, 
            "outputs": [], 
            "execution_count": 27
        }, 
        {
            "source": "with open(\"example.txt\",\"r\") as file:\n    print(file.read())", 
            "cell_type": "code", 
            "metadata": {}, 
            "outputs": [
                {
                    "output_type": "stream", 
                    "name": "stdout", 
                    "text": "Hello Python\nHello Jupyter\nHello Data Science\n"
                }
            ], 
            "execution_count": 28
        }, 
        {
            "source": "with open(\"example.txt\",\"r\") as file:\n    print(file.readline())\n    print(file.readline())", 
            "cell_type": "code", 
            "metadata": {}, 
            "outputs": [
                {
                    "output_type": "stream", 
                    "name": "stdout", 
                    "text": "Hello Python\n\nHello Jupyter\n\n"
                }
            ], 
            "execution_count": 30
        }, 
        {
            "source": "with open(\"example.txt\",\"r\") as file:\n    print(file.read(5))\n    print(file.read(5))", 
            "cell_type": "code", 
            "metadata": {}, 
            "outputs": [
                {
                    "output_type": "stream", 
                    "name": "stdout", 
                    "text": "Hello\n Pyth\n"
                }
            ], 
            "execution_count": 32
        }, 
        {
            "source": "seq = [\"This is line 1\\n\", \"This is line 2\"]\nwith open(\"example1.txt\",\"a\") as file:\n    for line in seq:\n        file.write(line)", 
            "cell_type": "code", 
            "metadata": {}, 
            "outputs": [], 
            "execution_count": 33
        }, 
        {
            "source": "with open(\"example1.txt\",\"r\") as file:\n    print(file.read())", 
            "cell_type": "code", 
            "metadata": {}, 
            "outputs": [
                {
                    "output_type": "stream", 
                    "name": "stdout", 
                    "text": "This is line 1\nThis is line 2\n"
                }
            ], 
            "execution_count": 35
        }, 
        {
            "source": "seq = [\"This is line 1\\n\", \"This is line 2\"]\nwith open(\"example2.txt\",\"a\") as file:\n    file.writelines(seq)", 
            "cell_type": "code", 
            "metadata": {}, 
            "outputs": [], 
            "execution_count": 36
        }, 
        {
            "source": "with open(\"example2.txt\",\"r\") as file:\n    print(file.read())", 
            "cell_type": "code", 
            "metadata": {}, 
            "outputs": [
                {
                    "output_type": "stream", 
                    "name": "stdout", 
                    "text": "This is line 1\nThis is line 2\n"
                }
            ], 
            "execution_count": 37
        }, 
        {
            "source": "with open(\"example2.txt\",\"r\") as file:\n    print(file.readlines())", 
            "cell_type": "code", 
            "metadata": {}, 
            "outputs": [
                {
                    "output_type": "stream", 
                    "name": "stdout", 
                    "text": "['This is line 1\\n', 'This is line 2']\n"
                }
            ], 
            "execution_count": 38
        }, 
        {
            "source": "seq = [\"James,\", \"Bond\", \"\\n\", \"Jackie,\", \"Chan\"]\nwith open(\"example3.csv\",\"a\") as file:\n    file.writelines(seq)", 
            "cell_type": "code", 
            "metadata": {}, 
            "outputs": [], 
            "execution_count": 45
        }, 
        {
            "source": "with open(\"example3.csv\",\"r\") as file:\n    print(file.read())", 
            "cell_type": "code", 
            "metadata": {}, 
            "outputs": [
                {
                    "output_type": "stream", 
                    "name": "stdout", 
                    "text": "James,Bond\nJackie,Chan\n"
                }
            ], 
            "execution_count": 46
        }, 
        {
            "source": "import pandas as pd", 
            "cell_type": "code", 
            "metadata": {}, 
            "outputs": [], 
            "execution_count": 41
        }, 
        {
            "source": "df = pd.read_csv(\"example3.csv\", header = None, names=['A','B'])\ndf", 
            "cell_type": "code", 
            "metadata": {}, 
            "outputs": [
                {
                    "output_type": "execute_result", 
                    "data": {
                        "text/plain": "        A     B\n0   James  Bond\n1  Jackie  Chan", 
                        "text/html": "<div>\n<style scoped>\n    .dataframe tbody tr th:only-of-type {\n        vertical-align: middle;\n    }\n\n    .dataframe tbody tr th {\n        vertical-align: top;\n    }\n\n    .dataframe thead th {\n        text-align: right;\n    }\n</style>\n<table border=\"1\" class=\"dataframe\">\n  <thead>\n    <tr style=\"text-align: right;\">\n      <th></th>\n      <th>A</th>\n      <th>B</th>\n    </tr>\n  </thead>\n  <tbody>\n    <tr>\n      <th>0</th>\n      <td>James</td>\n      <td>Bond</td>\n    </tr>\n    <tr>\n      <th>1</th>\n      <td>Jackie</td>\n      <td>Chan</td>\n    </tr>\n  </tbody>\n</table>\n</div>"
                    }, 
                    "execution_count": 55, 
                    "metadata": {}
                }
            ], 
            "execution_count": 55
        }, 
        {
            "source": "", 
            "cell_type": "code", 
            "metadata": {}, 
            "outputs": [], 
            "execution_count": null
        }
    ], 
    "metadata": {
        "kernelspec": {
            "display_name": "Python 3.5", 
            "name": "python3", 
            "language": "python"
        }, 
        "language_info": {
            "mimetype": "text/x-python", 
            "nbconvert_exporter": "python", 
            "version": "3.5.5", 
            "name": "python", 
            "pygments_lexer": "ipython3", 
            "file_extension": ".py", 
            "codemirror_mode": {
                "version": 3, 
                "name": "ipython"
            }
        }
    }, 
    "nbformat": 4
}